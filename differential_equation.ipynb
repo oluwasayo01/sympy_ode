{
 "cells": [
  {
   "cell_type": "code",
   "execution_count": 1,
   "metadata": {},
   "outputs": [],
   "source": [
    "from sympy import *"
   ]
  },
  {
   "cell_type": "code",
   "execution_count": 2,
   "metadata": {},
   "outputs": [],
   "source": [
    "t = symbols('t')"
   ]
  },
  {
   "cell_type": "code",
   "execution_count": 3,
   "metadata": {},
   "outputs": [],
   "source": [
    "y= Function('y')(t)"
   ]
  },
  {
   "cell_type": "code",
   "execution_count": 4,
   "metadata": {},
   "outputs": [],
   "source": [
    "dydt = y.diff(t)"
   ]
  },
  {
   "cell_type": "code",
   "execution_count": 5,
   "metadata": {},
   "outputs": [],
   "source": [
    "d2ydt2 = y.diff(t,2)"
   ]
  },
  {
   "cell_type": "code",
   "execution_count": 7,
   "metadata": {},
   "outputs": [],
   "source": [
    "diff_eq = Eq(d2ydt2 - 6*dydt + 15*y, 2*sin(3*t))"
   ]
  },
  {
   "cell_type": "code",
   "execution_count": 8,
   "metadata": {},
   "outputs": [
    {
     "data": {
      "text/latex": [
       "$\\displaystyle 15 y{\\left(t \\right)} - 6 \\frac{d}{d t} y{\\left(t \\right)} + \\frac{d^{2}}{d t^{2}} y{\\left(t \\right)} = 2 \\sin{\\left(3 t \\right)}$"
      ],
      "text/plain": [
       "Eq(15*y(t) - 6*Derivative(y(t), t) + Derivative(y(t), (t, 2)), 2*sin(3*t))"
      ]
     },
     "execution_count": 8,
     "metadata": {},
     "output_type": "execute_result"
    }
   ],
   "source": [
    "diff_eq"
   ]
  },
  {
   "cell_type": "code",
   "execution_count": 10,
   "metadata": {},
   "outputs": [],
   "source": [
    "result = dsolve(diff_eq)"
   ]
  },
  {
   "cell_type": "code",
   "execution_count": 11,
   "metadata": {},
   "outputs": [
    {
     "data": {
      "text/latex": [
       "$\\displaystyle y{\\left(t \\right)} = \\left(C_{1} \\sin{\\left(\\sqrt{6} t \\right)} + C_{2} \\cos{\\left(\\sqrt{6} t \\right)}\\right) e^{3 t} + \\frac{\\sin{\\left(3 t \\right)}}{30} + \\frac{\\cos{\\left(3 t \\right)}}{10}$"
      ],
      "text/plain": [
       "Eq(y(t), (C1*sin(sqrt(6)*t) + C2*cos(sqrt(6)*t))*exp(3*t) + sin(3*t)/30 + cos(3*t)/10)"
      ]
     },
     "execution_count": 11,
     "metadata": {},
     "output_type": "execute_result"
    }
   ],
   "source": [
    "result"
   ]
  },
  {
   "cell_type": "code",
   "execution_count": 12,
   "metadata": {},
   "outputs": [
    {
     "data": {
      "text/latex": [
       "$\\displaystyle y{\\left(t \\right)}$"
      ],
      "text/plain": [
       "y(t)"
      ]
     },
     "execution_count": 12,
     "metadata": {},
     "output_type": "execute_result"
    }
   ],
   "source": [
    "result.lhs"
   ]
  },
  {
   "cell_type": "code",
   "execution_count": 13,
   "metadata": {},
   "outputs": [
    {
     "data": {
      "text/latex": [
       "$\\displaystyle \\left(C_{1} \\sin{\\left(\\sqrt{6} t \\right)} + C_{2} \\cos{\\left(\\sqrt{6} t \\right)}\\right) e^{3 t} + \\frac{\\sin{\\left(3 t \\right)}}{30} + \\frac{\\cos{\\left(3 t \\right)}}{10}$"
      ],
      "text/plain": [
       "(C1*sin(sqrt(6)*t) + C2*cos(sqrt(6)*t))*exp(3*t) + sin(3*t)/30 + cos(3*t)/10"
      ]
     },
     "execution_count": 13,
     "metadata": {},
     "output_type": "execute_result"
    }
   ],
   "source": [
    "result.rhs"
   ]
  },
  {
   "cell_type": "code",
   "execution_count": 14,
   "metadata": {},
   "outputs": [],
   "source": [
    "equation1 = Eq(result.rhs.subs({'t': 0}), -1)"
   ]
  },
  {
   "cell_type": "code",
   "execution_count": 15,
   "metadata": {},
   "outputs": [
    {
     "data": {
      "text/latex": [
       "$\\displaystyle C_{2} + \\frac{1}{10} = -1$"
      ],
      "text/plain": [
       "Eq(C2 + 1/10, -1)"
      ]
     },
     "execution_count": 15,
     "metadata": {},
     "output_type": "execute_result"
    }
   ],
   "source": [
    "equation1"
   ]
  },
  {
   "cell_type": "code",
   "execution_count": 16,
   "metadata": {},
   "outputs": [],
   "source": [
    "equation1 = simplify(equation1)"
   ]
  },
  {
   "cell_type": "code",
   "execution_count": 17,
   "metadata": {},
   "outputs": [
    {
     "data": {
      "text/latex": [
       "$\\displaystyle C_{2} = - \\frac{11}{10}$"
      ],
      "text/plain": [
       "Eq(C2, -11/10)"
      ]
     },
     "execution_count": 17,
     "metadata": {},
     "output_type": "execute_result"
    }
   ],
   "source": [
    "equation1"
   ]
  },
  {
   "cell_type": "code",
   "execution_count": 20,
   "metadata": {},
   "outputs": [],
   "source": [
    "result_diff = diff(result.rhs, t)"
   ]
  },
  {
   "cell_type": "code",
   "execution_count": 22,
   "metadata": {},
   "outputs": [
    {
     "data": {
      "text/latex": [
       "$\\displaystyle 3 \\left(C_{1} \\sin{\\left(\\sqrt{6} t \\right)} + C_{2} \\cos{\\left(\\sqrt{6} t \\right)}\\right) e^{3 t} + \\left(\\sqrt{6} C_{1} \\cos{\\left(\\sqrt{6} t \\right)} - \\sqrt{6} C_{2} \\sin{\\left(\\sqrt{6} t \\right)}\\right) e^{3 t} - \\frac{3 \\sin{\\left(3 t \\right)}}{10} + \\frac{\\cos{\\left(3 t \\right)}}{10}$"
      ],
      "text/plain": [
       "3*(C1*sin(sqrt(6)*t) + C2*cos(sqrt(6)*t))*exp(3*t) + (sqrt(6)*C1*cos(sqrt(6)*t) - sqrt(6)*C2*sin(sqrt(6)*t))*exp(3*t) - 3*sin(3*t)/10 + cos(3*t)/10"
      ]
     },
     "execution_count": 22,
     "metadata": {},
     "output_type": "execute_result"
    }
   ],
   "source": [
    "result_diff"
   ]
  },
  {
   "cell_type": "code",
   "execution_count": 23,
   "metadata": {},
   "outputs": [],
   "source": [
    "equation2 = Eq(result_diff.subs({'t': 0}), -4)"
   ]
  },
  {
   "cell_type": "code",
   "execution_count": 24,
   "metadata": {},
   "outputs": [
    {
     "data": {
      "text/latex": [
       "$\\displaystyle \\sqrt{6} C_{1} + 3 C_{2} + \\frac{1}{10} = -4$"
      ],
      "text/plain": [
       "Eq(sqrt(6)*C1 + 3*C2 + 1/10, -4)"
      ]
     },
     "execution_count": 24,
     "metadata": {},
     "output_type": "execute_result"
    }
   ],
   "source": [
    "equation2"
   ]
  },
  {
   "cell_type": "code",
   "execution_count": 25,
   "metadata": {},
   "outputs": [],
   "source": [
    "equation2 = equation2.subs({'C2' : equation1.rhs})"
   ]
  },
  {
   "cell_type": "code",
   "execution_count": 26,
   "metadata": {},
   "outputs": [
    {
     "data": {
      "text/latex": [
       "$\\displaystyle \\sqrt{6} C_{1} - \\frac{16}{5} = -4$"
      ],
      "text/plain": [
       "Eq(sqrt(6)*C1 - 16/5, -4)"
      ]
     },
     "execution_count": 26,
     "metadata": {},
     "output_type": "execute_result"
    }
   ],
   "source": [
    "equation2"
   ]
  },
  {
   "cell_type": "code",
   "execution_count": 27,
   "metadata": {},
   "outputs": [],
   "source": [
    "equation2 = simplify(equation2)"
   ]
  },
  {
   "cell_type": "code",
   "execution_count": 29,
   "metadata": {},
   "outputs": [
    {
     "data": {
      "text/latex": [
       "$\\displaystyle C_{2} = - \\frac{11}{10}$"
      ],
      "text/plain": [
       "Eq(C2, -11/10)"
      ]
     },
     "execution_count": 29,
     "metadata": {},
     "output_type": "execute_result"
    }
   ],
   "source": [
    "equation1"
   ]
  },
  {
   "cell_type": "code",
   "execution_count": 28,
   "metadata": {},
   "outputs": [
    {
     "data": {
      "text/latex": [
       "$\\displaystyle C_{1} = - \\frac{2 \\sqrt{6}}{15}$"
      ],
      "text/plain": [
       "Eq(C1, -2*sqrt(6)/15)"
      ]
     },
     "execution_count": 28,
     "metadata": {},
     "output_type": "execute_result"
    }
   ],
   "source": [
    "equation2"
   ]
  },
  {
   "cell_type": "code",
   "execution_count": 30,
   "metadata": {},
   "outputs": [],
   "source": [
    "final_result = result.rhs.subs({'C1': equation2.rhs, 'C2': equation1.rhs})"
   ]
  },
  {
   "cell_type": "code",
   "execution_count": 31,
   "metadata": {},
   "outputs": [
    {
     "data": {
      "text/latex": [
       "$\\displaystyle \\left(- \\frac{2 \\sqrt{6} \\sin{\\left(\\sqrt{6} t \\right)}}{15} - \\frac{11 \\cos{\\left(\\sqrt{6} t \\right)}}{10}\\right) e^{3 t} + \\frac{\\sin{\\left(3 t \\right)}}{30} + \\frac{\\cos{\\left(3 t \\right)}}{10}$"
      ],
      "text/plain": [
       "(-2*sqrt(6)*sin(sqrt(6)*t)/15 - 11*cos(sqrt(6)*t)/10)*exp(3*t) + sin(3*t)/30 + cos(3*t)/10"
      ]
     },
     "execution_count": 31,
     "metadata": {},
     "output_type": "execute_result"
    }
   ],
   "source": [
    "final_result"
   ]
  },
  {
   "cell_type": "code",
   "execution_count": 32,
   "metadata": {},
   "outputs": [
    {
     "data": {
      "image/png": "[encoded data removed]",
      "text/plain": [
       "<Figure size 432x288 with 1 Axes>"
      ]
     },
     "metadata": {
      "needs_background": "light"
     },
     "output_type": "display_data"
    },
    {
     "data": {
      "text/plain": [
       "<sympy.plotting.plot.Plot at 0x17cbc6b3dc8>"
      ]
     },
     "execution_count": 32,
     "metadata": {},
     "output_type": "execute_result"
    }
   ],
   "source": [
    "plot(final_result, (t, -2, 2))"
   ]
  }
 ],
 "metadata": {
  "kernelspec": {
   "display_name": "Python 3",
   "language": "python",
   "name": "python3"
  },
  "language_info": {
   "codemirror_mode": {
    "name": "ipython",
    "version": 3
   },
   "file_extension": ".py",
   "mimetype": "text/x-python",
   "name": "python",
   "nbconvert_exporter": "python",
   "pygments_lexer": "ipython3",
   "version": "3.7.6"
  }
 },
 "nbformat": 4,
 "nbformat_minor": 4
}
